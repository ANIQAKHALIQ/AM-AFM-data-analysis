{
 "cells": [
  {
   "cell_type": "code",
   "execution_count": 2,
   "id": "4386dba1",
   "metadata": {},
   "outputs": [
    {
     "name": "stdout",
     "output_type": "stream",
     "text": [
      "phase15\n",
      "phase15\n"
     ]
    },
    {
     "ename": "FileExistsError",
     "evalue": "[WinError 183] Cannot create a file when that file already exists: 'C:\\\\Users\\\\aniqa\\\\Desktop\\\\xlsfileprocess\\\\dataproblem\\\\curves on protein\\\\with 2000 points\\\\potentialfiles\\\\phase155.xls' -> 'C:\\\\Users\\\\aniqa\\\\Desktop\\\\xlsfileprocess\\\\dataproblem\\\\curves on protein\\\\with 2000 points\\\\potentialfiles\\\\phase15'",
     "output_type": "error",
     "traceback": [
      "\u001b[1;31m---------------------------------------------------------------------------\u001b[0m",
      "\u001b[1;31mFileExistsError\u001b[0m                           Traceback (most recent call last)",
      "Cell \u001b[1;32mIn[2], line 11\u001b[0m\n\u001b[0;32m      9\u001b[0m         \u001b[38;5;28mprint\u001b[39m(filename)\n\u001b[0;32m     10\u001b[0m \u001b[38;5;66;03m#         oldname = os.path.join()\u001b[39;00m\n\u001b[1;32m---> 11\u001b[0m         os\u001b[38;5;241m.\u001b[39mrename(path\u001b[38;5;241m+\u001b[39mfile,path\u001b[38;5;241m+\u001b[39mfilename)\n\u001b[0;32m     14\u001b[0m \u001b[38;5;66;03m#     counter_file = 0\u001b[39;00m\n",
      "\u001b[1;31mFileExistsError\u001b[0m: [WinError 183] Cannot create a file when that file already exists: 'C:\\\\Users\\\\aniqa\\\\Desktop\\\\xlsfileprocess\\\\dataproblem\\\\curves on protein\\\\with 2000 points\\\\potentialfiles\\\\phase155.xls' -> 'C:\\\\Users\\\\aniqa\\\\Desktop\\\\xlsfileprocess\\\\dataproblem\\\\curves on protein\\\\with 2000 points\\\\potentialfiles\\\\phase15'"
     ]
    }
   ],
   "source": [
    "import os\n",
    "import sys\n",
    "\n",
    "path = \"C:\\\\Users\\\\aniqa\\\\Desktop\\\\xlsfileprocess\\\\dataproblem\\\\curves on protein\\\\with 2000 points\\\\potentialfiles\\\\\"\n",
    "\n",
    "for file in os.listdir(path):\n",
    "    if file[-5:] ==\".spec\": \n",
    "        filename = file[:-5]\n",
    "        print(filename)\n",
    "#         oldname = os.path.join()\n",
    "        os.rename(path+file,path+filename)\n",
    "        \n",
    "    \n",
    "#     counter_file = 0"
   ]
  },
  {
   "cell_type": "code",
   "execution_count": 6,
   "id": "90bd9eca",
   "metadata": {},
   "outputs": [
    {
     "data": {
      "text/plain": [
       "[]"
      ]
     },
     "execution_count": 6,
     "metadata": {},
     "output_type": "execute_result"
    }
   ],
   "source": [
    "name = [file for file in os.listdir(path)]\n",
    "name"
   ]
  },
  {
   "cell_type": "code",
   "execution_count": null,
   "id": "5c05bdc3",
   "metadata": {},
   "outputs": [],
   "source": []
  },
  {
   "cell_type": "code",
   "execution_count": null,
   "id": "c69f24fd",
   "metadata": {},
   "outputs": [],
   "source": []
  }
 ],
 "metadata": {
  "kernelspec": {
   "display_name": "Python 3 (ipykernel)",
   "language": "python",
   "name": "python3"
  },
  "language_info": {
   "codemirror_mode": {
    "name": "ipython",
    "version": 3
   },
   "file_extension": ".py",
   "mimetype": "text/x-python",
   "name": "python",
   "nbconvert_exporter": "python",
   "pygments_lexer": "ipython3",
   "version": "3.11.3"
  }
 },
 "nbformat": 4,
 "nbformat_minor": 5
}
